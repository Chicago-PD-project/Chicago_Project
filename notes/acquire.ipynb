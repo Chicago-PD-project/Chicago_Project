{
 "cells": [
  {
   "cell_type": "code",
   "execution_count": 9,
   "metadata": {},
   "outputs": [],
   "source": [
    "import pandas as pd\n",
    "import requests\n",
    "import urllib.parse"
   ]
  },
  {
   "cell_type": "markdown",
   "metadata": {},
   "source": [
    "**Data Source**: [City of Chicago: Crimes 2001 to Present](https://data.cityofchicago.org/Public-Safety/Crimes-2001-to-Present/ijzp-q8t2/data)\n",
    "\n"
   ]
  },
  {
   "cell_type": "markdown",
   "metadata": {},
   "source": [
    "## Filtering"
   ]
  },
  {
   "cell_type": "markdown",
   "metadata": {},
   "source": [
    "\n",
    "To be more effecient with network resources, Chicago exposes an API endpoint which allows us to filter the data and only download the data that we want.  It apparently uses a backend query language called SoQL, which gives us the ability to use SQL like query language to filter the data how we want.\n",
    "\n",
    "https://dev.socrata.com/foundry/data.cityofchicago.org/ijzp-q8t2"
   ]
  },
  {
   "cell_type": "code",
   "execution_count": 3,
   "metadata": {},
   "outputs": [],
   "source": [
    "def build_query_str(query: dict) -> str:\n",
    "    \"\"\"Parses a dictionary of parameters to build a SODA query string\"\"\"\n",
    "    out = ''\n",
    "    if query:\n",
    "        for k, v in query.items():\n",
    "            out += f\"${k}={v}\"\n",
    "    return out"
   ]
  },
  {
   "cell_type": "code",
   "execution_count": 4,
   "metadata": {},
   "outputs": [
    {
     "data": {
      "text/html": [
       "<div>\n",
       "<style scoped>\n",
       "    .dataframe tbody tr th:only-of-type {\n",
       "        vertical-align: middle;\n",
       "    }\n",
       "\n",
       "    .dataframe tbody tr th {\n",
       "        vertical-align: top;\n",
       "    }\n",
       "\n",
       "    .dataframe thead th {\n",
       "        text-align: right;\n",
       "    }\n",
       "</style>\n",
       "<table border=\"1\" class=\"dataframe\">\n",
       "  <thead>\n",
       "    <tr style=\"text-align: right;\">\n",
       "      <th></th>\n",
       "      <th>id</th>\n",
       "      <th>case_number</th>\n",
       "      <th>date</th>\n",
       "      <th>block</th>\n",
       "      <th>iucr</th>\n",
       "      <th>primary_type</th>\n",
       "      <th>description</th>\n",
       "      <th>location_description</th>\n",
       "      <th>arrest</th>\n",
       "      <th>domestic</th>\n",
       "      <th>...</th>\n",
       "      <th>ward</th>\n",
       "      <th>community_area</th>\n",
       "      <th>fbi_code</th>\n",
       "      <th>x_coordinate</th>\n",
       "      <th>y_coordinate</th>\n",
       "      <th>year</th>\n",
       "      <th>updated_on</th>\n",
       "      <th>latitude</th>\n",
       "      <th>longitude</th>\n",
       "      <th>location</th>\n",
       "    </tr>\n",
       "  </thead>\n",
       "  <tbody>\n",
       "    <tr>\n",
       "      <th>0</th>\n",
       "      <td>11552605</td>\n",
       "      <td>JC100030</td>\n",
       "      <td>2019-01-01T00:01:00.000</td>\n",
       "      <td>004XX N MONTICELLO AVE</td>\n",
       "      <td>143A</td>\n",
       "      <td>WEAPONS VIOLATION</td>\n",
       "      <td>UNLAWFUL POSS OF HANDGUN</td>\n",
       "      <td>ALLEY</td>\n",
       "      <td>True</td>\n",
       "      <td>False</td>\n",
       "      <td>...</td>\n",
       "      <td>27</td>\n",
       "      <td>23</td>\n",
       "      <td>15</td>\n",
       "      <td>1151958</td>\n",
       "      <td>1902815</td>\n",
       "      <td>2019</td>\n",
       "      <td>2019-01-10T15:16:50.000</td>\n",
       "      <td>41.889196391</td>\n",
       "      <td>-87.717403722</td>\n",
       "      <td>{'latitude': '41.889196391', 'longitude': '-87...</td>\n",
       "    </tr>\n",
       "    <tr>\n",
       "      <th>1</th>\n",
       "      <td>11552645</td>\n",
       "      <td>JC100087</td>\n",
       "      <td>2019-01-01T00:01:00.000</td>\n",
       "      <td>028XX E 76TH ST</td>\n",
       "      <td>1310</td>\n",
       "      <td>CRIMINAL DAMAGE</td>\n",
       "      <td>TO PROPERTY</td>\n",
       "      <td>RESIDENCE</td>\n",
       "      <td>False</td>\n",
       "      <td>False</td>\n",
       "      <td>...</td>\n",
       "      <td>7</td>\n",
       "      <td>43</td>\n",
       "      <td>14</td>\n",
       "      <td>1196262</td>\n",
       "      <td>1855497</td>\n",
       "      <td>2019</td>\n",
       "      <td>2019-01-10T15:16:50.000</td>\n",
       "      <td>41.75836602</td>\n",
       "      <td>-87.556276032</td>\n",
       "      <td>{'latitude': '41.75836602', 'longitude': '-87....</td>\n",
       "    </tr>\n",
       "    <tr>\n",
       "      <th>2</th>\n",
       "      <td>11552869</td>\n",
       "      <td>JC100416</td>\n",
       "      <td>2019-01-01T00:01:00.000</td>\n",
       "      <td>001XX N CLARK ST</td>\n",
       "      <td>0820</td>\n",
       "      <td>THEFT</td>\n",
       "      <td>$500 AND UNDER</td>\n",
       "      <td>STREET</td>\n",
       "      <td>False</td>\n",
       "      <td>False</td>\n",
       "      <td>...</td>\n",
       "      <td>42</td>\n",
       "      <td>32</td>\n",
       "      <td>06</td>\n",
       "      <td>1175524</td>\n",
       "      <td>1900930</td>\n",
       "      <td>2019</td>\n",
       "      <td>2019-01-10T15:16:50.000</td>\n",
       "      <td>41.883527057</td>\n",
       "      <td>-87.630917053</td>\n",
       "      <td>{'latitude': '41.883527057', 'longitude': '-87...</td>\n",
       "    </tr>\n",
       "  </tbody>\n",
       "</table>\n",
       "<p>3 rows × 22 columns</p>\n",
       "</div>"
      ],
      "text/plain": [
       "         id case_number                     date                   block  \\\n",
       "0  11552605    JC100030  2019-01-01T00:01:00.000  004XX N MONTICELLO AVE   \n",
       "1  11552645    JC100087  2019-01-01T00:01:00.000         028XX E 76TH ST   \n",
       "2  11552869    JC100416  2019-01-01T00:01:00.000        001XX N CLARK ST   \n",
       "\n",
       "   iucr       primary_type               description location_description  \\\n",
       "0  143A  WEAPONS VIOLATION  UNLAWFUL POSS OF HANDGUN                ALLEY   \n",
       "1  1310    CRIMINAL DAMAGE               TO PROPERTY            RESIDENCE   \n",
       "2  0820              THEFT            $500 AND UNDER               STREET   \n",
       "\n",
       "   arrest  domestic  ... ward community_area fbi_code x_coordinate  \\\n",
       "0    True     False  ...   27             23       15      1151958   \n",
       "1   False     False  ...    7             43       14      1196262   \n",
       "2   False     False  ...   42             32       06      1175524   \n",
       "\n",
       "  y_coordinate  year               updated_on      latitude      longitude  \\\n",
       "0      1902815  2019  2019-01-10T15:16:50.000  41.889196391  -87.717403722   \n",
       "1      1855497  2019  2019-01-10T15:16:50.000   41.75836602  -87.556276032   \n",
       "2      1900930  2019  2019-01-10T15:16:50.000  41.883527057  -87.630917053   \n",
       "\n",
       "                                            location  \n",
       "0  {'latitude': '41.889196391', 'longitude': '-87...  \n",
       "1  {'latitude': '41.75836602', 'longitude': '-87....  \n",
       "2  {'latitude': '41.883527057', 'longitude': '-87...  \n",
       "\n",
       "[3 rows x 22 columns]"
      ]
     },
     "execution_count": 4,
     "metadata": {},
     "output_type": "execute_result"
    }
   ],
   "source": [
    "\"\"\"\n",
    "Example of a functioning api call\n",
    "\n",
    "TODO: Clean up this code structure\n",
    "\"\"\"\n",
    "\n",
    "endpoint = 'https://data.cityofchicago.org/resource/ijzp-q8t2.json'\n",
    "query = {\n",
    "    'where': \"\"\"\n",
    "        date > '2019'\n",
    "        \"\"\",\n",
    "}\n",
    "soda_query = build_query_str(query)\n",
    "response = requests.get(''.join([endpoint,'?',soda_query]))\n",
    "temp = pd.DataFrame(response.json())\n",
    "temp.head(3)"
   ]
  },
  {
   "cell_type": "code",
   "execution_count": 8,
   "metadata": {},
   "outputs": [
    {
     "data": {
      "text/plain": [
       "'where=%0A++++++++date+%3E+%272019%27%0A++++++++'"
      ]
     },
     "execution_count": 8,
     "metadata": {},
     "output_type": "execute_result"
    }
   ],
   "source": [
    "urllib.parse.urlencode(query, )"
   ]
  },
  {
   "cell_type": "code",
   "execution_count": 5,
   "metadata": {},
   "outputs": [
    {
     "data": {
      "text/plain": [
       "\"https://data.cityofchicago.org/resource/ijzp-q8t2.json?$where=\\n        date > '2019'\\n        \""
      ]
     },
     "execution_count": 5,
     "metadata": {},
     "output_type": "execute_result"
    }
   ],
   "source": [
    "''.join([endpoint,'?',soda_query]) #What does the string look like?"
   ]
  },
  {
   "cell_type": "code",
   "execution_count": 6,
   "metadata": {},
   "outputs": [
    {
     "data": {
      "text/plain": [
       "['id',\n",
       " 'case_number',\n",
       " 'date',\n",
       " 'block',\n",
       " 'iucr',\n",
       " 'primary_type',\n",
       " 'description',\n",
       " 'location_description',\n",
       " 'arrest',\n",
       " 'domestic',\n",
       " 'beat',\n",
       " 'district',\n",
       " 'ward',\n",
       " 'community_area',\n",
       " 'fbi_code',\n",
       " 'x_coordinate',\n",
       " 'y_coordinate',\n",
       " 'year',\n",
       " 'updated_on',\n",
       " 'latitude',\n",
       " 'longitude',\n",
       " 'location']"
      ]
     },
     "execution_count": 6,
     "metadata": {},
     "output_type": "execute_result"
    }
   ],
   "source": [
    "temp.columns.to_list()"
   ]
  },
  {
   "cell_type": "markdown",
   "metadata": {},
   "source": [
    "## Paging"
   ]
  },
  {
   "cell_type": "markdown",
   "metadata": {},
   "source": [
    "<div markdown=\"1\" \n",
    "    style= \"\n",
    "    box-sizing: border-box;\n",
    "    padding: 15px;\n",
    "    margin-bottom: 20px;\n",
    "    border: 1px solid transparent;\n",
    "    border-radius: 15px;\n",
    "    color: #31708f;\n",
    "    background-color: #d9edf7;\n",
    "    border-color: #bce8f1;\n",
    "    width: 55%;\n",
    "    \">\n",
    "\n",
    "**Heads Up!**  \n",
    "The order of the results of a query are not implicitly ordered, so if you're paging, make sure you provide an [`$order` clause](https://dev.socrata.com/docs/queries/) or at a minimum `$order=:id`.  \n",
    "That will guarantee that the order of your results will be stable as you page through the dataset.\n",
    "</div>"
   ]
  },
  {
   "cell_type": "markdown",
   "metadata": {},
   "source": [
    "As is the usual case with API acquire methods, we are going to need to loop through several pages.  To help me with that, I want to first define a function that gets a single page and returns the JSON."
   ]
  }
 ],
 "metadata": {
  "kernelspec": {
   "display_name": "Python 3.10.7 64-bit",
   "language": "python",
   "name": "python3"
  },
  "language_info": {
   "codemirror_mode": {
    "name": "ipython",
    "version": 3
   },
   "file_extension": ".py",
   "mimetype": "text/x-python",
   "name": "python",
   "nbconvert_exporter": "python",
   "pygments_lexer": "ipython3",
   "version": "3.10.7"
  },
  "orig_nbformat": 4,
  "vscode": {
   "interpreter": {
    "hash": "37b4e1d782780d9803a775659fc8b81e9cc61a0899d4564192c1f7cc3c556e45"
   }
  }
 },
 "nbformat": 4,
 "nbformat_minor": 2
}
